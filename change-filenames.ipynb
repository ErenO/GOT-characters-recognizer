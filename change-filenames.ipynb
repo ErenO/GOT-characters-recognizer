{
 "cells": [
  {
   "cell_type": "code",
   "execution_count": 3,
   "metadata": {},
   "outputs": [],
   "source": [
    "import os\n",
    "from glob import glob"
   ]
  },
  {
   "cell_type": "code",
   "execution_count": 4,
   "metadata": {},
   "outputs": [
    {
     "name": "stdout",
     "output_type": "stream",
     "text": [
      "['dataset/Meera/3.png', 'dataset/Meera/62.jpg', 'dataset/Meera/53.jpg', 'dataset/Meera/12.jpg', 'dataset/Meera/6.jpg', 'dataset/Meera/44.jpg', 'dataset/Meera/13.jpg', 'dataset/Meera/58.jpg', 'dataset/Meera/20.jpg', 'dataset/Meera/17.jpg']\n"
     ]
    }
   ],
   "source": [
    "fileLst = []\n",
    "\n",
    "for file in glob('dataset/*/*.*'):\n",
    "    fileLst.append(file)\n",
    "\n",
    "print (fileLst[:10])"
   ]
  },
  {
   "cell_type": "code",
   "execution_count": 5,
   "metadata": {},
   "outputs": [
    {
     "name": "stdout",
     "output_type": "stream",
     "text": [
      "dataset/Meera/MeeraReed72320?cb=20160527193328&path-prefix=fr.jpg\n"
     ]
    }
   ],
   "source": [
    "fileLst[0].replace(' ', '')\n",
    "trans = 'dataset/Meera/MeeraReed72.320?cb=20160527193328&path-prefix=fr.jpg'.replace('.jpg', '').replace('.', '') + '.jpg'\n",
    "print (trans)"
   ]
  },
  {
   "cell_type": "code",
   "execution_count": 6,
   "metadata": {},
   "outputs": [],
   "source": [
    "# for ind, file in enumerate(fileLst):\n",
    "#     if '.jpg' in file:\n",
    "#         trans = \"{}{}.jpg\".format(file[:file.find('/', file.find('/') + 1) + 1], ind)\n",
    "#         os.rename(file, trans)\n",
    "#     elif '.png' in file:\n",
    "#         trans = \"{}{}.png\".format(file[:file.find('/', file.find('/') + 1) + 1], ind)\n",
    "#         os.rename(file, trans)"
   ]
  },
  {
   "cell_type": "code",
   "execution_count": 7,
   "metadata": {},
   "outputs": [],
   "source": [
    "string = 'dataset/Meera/MeeraReed72.320?cb=20160527193328&path-prefix=fr.jpg'\n",
    "if '.jpg' in string:\n",
    "    trans = string.replace('.jpg', '').replace('.', '') + '.jpg'"
   ]
  },
  {
   "cell_type": "code",
   "execution_count": 8,
   "metadata": {},
   "outputs": [
    {
     "name": "stdout",
     "output_type": "stream",
     "text": [
      "dataset/Meera/MeeraReed72320?cb=20160527193328&path-prefix=fr.jpg\n"
     ]
    }
   ],
   "source": [
    "print (trans)"
   ]
  },
  {
   "cell_type": "code",
   "execution_count": 9,
   "metadata": {},
   "outputs": [],
   "source": [
    "from PIL import Image\n",
    "from skimage.io import imread"
   ]
  },
  {
   "cell_type": "code",
   "execution_count": 13,
   "metadata": {},
   "outputs": [],
   "source": [
    "ind = 0"
   ]
  },
  {
   "cell_type": "code",
   "execution_count": 16,
   "metadata": {},
   "outputs": [],
   "source": [
    "for file in fileLst:\n",
    "    try:\n",
    "        imread(file)\n",
    "    except:\n",
    "        os.remove(file)"
   ]
  },
  {
   "cell_type": "code",
   "execution_count": 15,
   "metadata": {},
   "outputs": [
    {
     "name": "stdout",
     "output_type": "stream",
     "text": [
      "(3357, 236)\n"
     ]
    }
   ],
   "source": [
    "print (len(fileLst), ind)"
   ]
  },
  {
   "cell_type": "code",
   "execution_count": null,
   "metadata": {},
   "outputs": [],
   "source": []
  }
 ],
 "metadata": {
  "kernelspec": {
   "display_name": "Python 3",
   "language": "python",
   "name": "python3"
  },
  "language_info": {
   "codemirror_mode": {
    "name": "ipython",
    "version": 3
   },
   "file_extension": ".py",
   "mimetype": "text/x-python",
   "name": "python",
   "nbconvert_exporter": "python",
   "pygments_lexer": "ipython3",
   "version": "3.6.8"
  }
 },
 "nbformat": 4,
 "nbformat_minor": 2
}
